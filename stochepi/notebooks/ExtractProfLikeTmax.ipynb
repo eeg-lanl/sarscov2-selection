{
 "cells": [
  {
   "cell_type": "markdown",
   "metadata": {},
   "source": [
    "# Profile Likelihood for the SARS-CoV-2 variant model\n",
    "\n",
    "Compute the profile likelihood with data restricted such that $t \\leq t_{\\max}$."
   ]
  },
  {
   "cell_type": "code",
   "execution_count": null,
   "metadata": {},
   "outputs": [],
   "source": [
    "%matplotlib inline\n",
    "import matplotlib.pyplot as plt\n",
    "import numpy as np\n",
    "import re\n",
    "import scipy.stats as sts\n",
    "import xml.etree.ElementTree as ET\n",
    "import pickle\n",
    "import glob\n",
    "import os\n",
    "from scipy.interpolate import UnivariateSpline\n",
    "from scipy.optimize import minimize_scalar, root_scalar\n",
    "import json\n",
    "\n",
    "\n",
    "import sys, importlib\n",
    "sys.path.append(\"..\")\n",
    "from evpytools import evplot\n",
    "from evpytools import auxiliary as aux\n",
    "from evpytools import definitions as defn\n",
    "for mod in [evplot, aux, defn]:\n",
    "    importlib.reload(mod)"
   ]
  },
  {
   "cell_type": "code",
   "execution_count": null,
   "metadata": {},
   "outputs": [],
   "source": [
    "plt.rcParams.update({'font.size' : 18})"
   ]
  },
  {
   "cell_type": "code",
   "execution_count": null,
   "metadata": {},
   "outputs": [],
   "source": [
    "dupl = 5 ## number of repeated LL estimates at end of IPF\n",
    "\n",
    "sigmas = np.linspace(-0.1, 0.8, 19)\n",
    "\n",
    "#tmaxs = np.linspace(355, 439, 7)\n",
    "#filename_base = \"../data/out/ipf_result-sars_model_Netherlands-B.1.351\"\n",
    "\n",
    "tmaxs = np.linspace(278, 362, 7)\n",
    "filename_base = \"../data/out/ipf_result-sars_model_United_Kingdom-B.1.1.7\"\n",
    "\n",
    "#tmaxs = np.linspace(326, 438, 9)\n",
    "#filename_base = \"../data/out/ipf_result-sars_model_Netherlands-B.1.1.7\"\n",
    "\n",
    "\n",
    "filenames = [[f\"{filename_base}_tmax={tmax:g}_sigma={sigma:g}.xml\" \n",
    "              for sigma in sigmas] for tmax in tmaxs]\n",
    "\n",
    "## check that all files exist\n",
    "\n",
    "for files in filenames:\n",
    "    for file in files:\n",
    "        if not os.path.isfile(file):\n",
    "            print(file)"
   ]
  },
  {
   "cell_type": "code",
   "execution_count": null,
   "metadata": {},
   "outputs": [],
   "source": [
    "## extract final loglikes\n",
    "LLss = []\n",
    "LLvalidss = []\n",
    "\n",
    "for files in filenames:\n",
    "    LLs = []\n",
    "    LLvalids = []\n",
    "    for file in files:        \n",
    "        tree = ET.parse(file)\n",
    "        root = tree.getroot()\n",
    "        ## extract IPF steps\n",
    "        iterf_steps = root.findall(\"iterated_filtering_step\")\n",
    "        ## get log-like traces\n",
    "        ll_dicts = [xs.find(\"log_lik\").attrib for xs in iterf_steps]\n",
    "        ll_vals = [float(d[\"val\"]) for d in ll_dicts]\n",
    "        ll_valids = [True if d[\"finite\"] == 'true' else False for d in ll_dicts]\n",
    "        ## get final LL\n",
    "        final_lls = ll_vals[-dupl:]\n",
    "        final_lls_valid = ll_valids[-dupl:]\n",
    "        ## add final LL to list\n",
    "        LLs.append(final_lls)\n",
    "        LLvalids.append(final_lls_valid)    \n",
    "    LLss.append(LLs)\n",
    "    LLvalidss.append(LLvalids)"
   ]
  },
  {
   "cell_type": "code",
   "execution_count": null,
   "metadata": {},
   "outputs": [],
   "source": [
    "## export result to a json file for use in other data notebook...\n",
    "result_dict = {\n",
    "    \"LLss\" : LLss,\n",
    "    \"tmaxs\" : list(tmaxs),\n",
    "    \"sigmas\" : list(sigmas)\n",
    "}\n",
    "\n",
    "\n",
    "#output_file = \"../data/out/profile-lik-tmax-results_Netherlands_B.1.351.json\"\n",
    "output_file = \"../data/out/profile-lik-tmax-results_United_Kingdom-B.1.1.7.json\"\n",
    "#output_file = \"../data/out/profile-lik-tmax-results_Netherlands-B.1.1.7.json\"\n",
    "\n",
    "with open(output_file, 'w') as f:\n",
    "    json.dump(result_dict, f)"
   ]
  },
  {
   "cell_type": "markdown",
   "metadata": {},
   "source": [
    "## Compute CIs for each tmax"
   ]
  },
  {
   "cell_type": "code",
   "execution_count": null,
   "metadata": {},
   "outputs": [],
   "source": [
    "## test figure: inspect raw results\n",
    "\n",
    "fig, ax = plt.subplots(1, 1, figsize=(7,4), sharex=True)\n",
    "\n",
    "\n",
    "## compute and plot plot CIs\n",
    "\n",
    "max_diff = 10\n",
    "DL = sts.chi2.ppf(0.95,1)/2\n",
    "\n",
    "for i, LLs in enumerate(LLss):\n",
    "    ## compute means\n",
    "    meanLLs = np.mean(LLs, axis=1)\n",
    "    \n",
    "    ## remove very small LLs\n",
    "    sigs, lls = aux.unzip([(s, l) for s, l in zip(sigmas, meanLLs) \n",
    "                           if l >= np.max(LLs)-max_diff])\n",
    "   \n",
    "    bounds = (sigs[0], sigs[-1])\n",
    "\n",
    "    cs = UnivariateSpline(sigs, lls, s=10, ext='raise')\n",
    "    xs = np.linspace(*bounds, 250)\n",
    "\n",
    "    ## find max of spline and CI\n",
    "    res = minimize_scalar(lambda x: -cs(x), bounds=bounds, method='bounded')\n",
    "    max_LL = -res.fun\n",
    "    sigma_opt = res.x\n",
    "\n",
    "    ax.plot(cs(xs)-max_LL+tmaxs[i]+DL, xs, label='spline', color='k', linewidth=2)\n",
    "    \n",
    "    print(f\"s_opt = {sigma_opt:0.2f}\")\n",
    "    print(f\"max LL = {max_LL:0.2f}\")\n",
    "    \n",
    "    try:\n",
    "        lres = root_scalar(lambda x: cs(x)-max_LL + DL, bracket=[sigs[0], sigma_opt])\n",
    "        rres = root_scalar(lambda x: cs(x)-max_LL + DL, bracket=[sigma_opt, sigs[-1]])\n",
    "        \n",
    "        lCI = lres.root\n",
    "        rCI = rres.root\n",
    "\n",
    "        print(f\"95% CI = [{lCI:0.2f}, {rCI:0.2f}]\")\n",
    "\n",
    "        #ax.axhspan(lCI, rCI, color='k', alpha=0.2, linewidth=0)\n",
    "    except:\n",
    "        print(\"unable to compute CI!\")\n",
    "        \n",
    "    ## plot dots\n",
    "    ax.scatter(np.array(lls)-max_LL+tmaxs[i]+DL, sigs, color='k', s=5)\n",
    "    ax.axvline(x=tmaxs[i], color='k', alpha=0.4)\n",
    "\n",
    "    \n",
    "ax.set_ylabel(\"$s$\")\n",
    "ax.set_xlabel(\"max time (days)\")\n",
    "\n",
    "fig.savefig(\"../data/prof-lik-maxt.pdf\")"
   ]
  },
  {
   "cell_type": "code",
   "execution_count": null,
   "metadata": {},
   "outputs": [],
   "source": []
  },
  {
   "cell_type": "code",
   "execution_count": null,
   "metadata": {},
   "outputs": [],
   "source": []
  },
  {
   "cell_type": "code",
   "execution_count": null,
   "metadata": {},
   "outputs": [],
   "source": []
  }
 ],
 "metadata": {
  "kernelspec": {
   "display_name": "Python 3 (ipykernel)",
   "language": "python",
   "name": "python3"
  },
  "language_info": {
   "codemirror_mode": {
    "name": "ipython",
    "version": 3
   },
   "file_extension": ".py",
   "mimetype": "text/x-python",
   "name": "python",
   "nbconvert_exporter": "python",
   "pygments_lexer": "ipython3",
   "version": "3.8.10"
  }
 },
 "nbformat": 4,
 "nbformat_minor": 4
}
