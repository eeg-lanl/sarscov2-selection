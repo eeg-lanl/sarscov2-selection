{
 "cells": [
  {
   "cell_type": "markdown",
   "metadata": {},
   "source": [
    "# Profile Likelihood for the SARS-CoV-2 variant model\n",
    "\n",
    "Compute the profile likelihood with data restricted such that $t \\leq t_{\\max}$."
   ]
  },
  {
   "cell_type": "code",
   "execution_count": null,
   "metadata": {},
   "outputs": [],
   "source": [
    "%matplotlib inline\n",
    "import matplotlib.pyplot as plt\n",
    "import numpy as np\n",
    "import re\n",
    "import scipy.stats as sts\n",
    "import xml.etree.ElementTree as ET\n",
    "import scipy.stats as sts\n",
    "import pickle\n",
    "import glob\n",
    "import os\n",
    "from scipy.interpolate import UnivariateSpline\n",
    "from scipy.optimize import minimize_scalar, root_scalar\n",
    "\n",
    "\n",
    "import sys, importlib\n",
    "sys.path.append(\"..\")\n",
    "from evpytools import evplot\n",
    "from evpytools import auxiliary as aux\n",
    "from evpytools import definitions as defn\n",
    "for mod in [evplot, aux, defn]:\n",
    "    importlib.reload(mod)"
   ]
  },
  {
   "cell_type": "code",
   "execution_count": null,
   "metadata": {},
   "outputs": [],
   "source": [
    "plt.rcParams.update({'font.size' : 18})"
   ]
  },
  {
   "cell_type": "code",
   "execution_count": null,
   "metadata": {},
   "outputs": [],
   "source": [
    "dupl = 2 ## number of repeated LL estimates at end of IPF\n",
    "\n",
    "sigmas = np.linspace(0.0, 0.7, 36)\n",
    "tmaxs = np.linspace(355, 383, 3)\n",
    "filenames = [[f\"../data/out/ipf_result-sars_model_Netherlands-B.1.351_tmax={tmax:g}_sigma={sigma:g}.xml\" \n",
    "              for sigma in sigmas] for tmax in tmaxs]\n",
    "\n",
    "## check that all files exist\n",
    "\n",
    "for files in filenames:\n",
    "    for file in files:\n",
    "        if not os.path.isfile(file):\n",
    "            print(file)"
   ]
  },
  {
   "cell_type": "code",
   "execution_count": null,
   "metadata": {},
   "outputs": [],
   "source": [
    "## extract final loglikes\n",
    "LLss = []\n",
    "LLvalidss = []\n",
    "\n",
    "for files in filenames:\n",
    "    LLs = []\n",
    "    LLvalids = []\n",
    "    for file in files:        \n",
    "        tree = ET.parse(file)\n",
    "        root = tree.getroot()\n",
    "        ## extract IPF steps\n",
    "        iterf_steps = root.findall(\"iterated_filtering_step\")\n",
    "        ## get log-like traces\n",
    "        ll_dicts = [xs.find(\"log_lik\").attrib for xs in iterf_steps]\n",
    "        ll_vals = [float(d[\"val\"]) for d in ll_dicts]\n",
    "        ll_valids = [True if d[\"finite\"] == 'true' else False for d in ll_dicts]\n",
    "        ## get final LL\n",
    "        final_lls = ll_vals[-dupl:]\n",
    "        final_lls_valid = ll_valids[-dupl:]\n",
    "        ## add final LL to list\n",
    "        LLs.append(final_lls)\n",
    "        LLvalids.append(final_lls_valid)    \n",
    "    LLss.append(LLs)\n",
    "    LLvalidss.append(LLvalids)"
   ]
  },
  {
   "cell_type": "code",
   "execution_count": null,
   "metadata": {},
   "outputs": [],
   "source": [
    "## export the LL values to a file\n",
    "with open(\"../data/out/prof-lik-tmax-test.tsv\", 'w') as f:\n",
    "    for s, xs, bs in zip(sigmas, LLs, LLvalids):\n",
    "        for x, b in zip(xs, bs):\n",
    "            f.write(f\"{s}\\t{x}\\t{b}\\n\")"
   ]
  },
  {
   "cell_type": "markdown",
   "metadata": {},
   "source": [
    "## Compute CIs for each tmax"
   ]
  },
  {
   "cell_type": "code",
   "execution_count": null,
   "metadata": {},
   "outputs": [],
   "source": [
    "## test figure: inspect raw results\n",
    "\n",
    "fig, ax = plt.subplots(1, 1, figsize=(7,4))\n",
    "\n",
    "for i, LLs in enumerate(LLss):\n",
    "    ## compute medians\n",
    "    medianLLs = np.median(LLs, axis=1)\n",
    "    maxLL = np.max(medianLLs)\n",
    "    ax.scatter(medianLLs-maxLL+tmaxs[i], sigmas, color='k', s=2)\n",
    "    ax.axvline(x=tmaxs[i]-2, color='k', alpha=0.4)"
   ]
  },
  {
   "cell_type": "code",
   "execution_count": null,
   "metadata": {},
   "outputs": [],
   "source": []
  },
  {
   "cell_type": "code",
   "execution_count": null,
   "metadata": {},
   "outputs": [],
   "source": []
  },
  {
   "cell_type": "code",
   "execution_count": null,
   "metadata": {},
   "outputs": [],
   "source": []
  }
 ],
 "metadata": {
  "kernelspec": {
   "display_name": "Python 3",
   "language": "python",
   "name": "python3"
  },
  "language_info": {
   "codemirror_mode": {
    "name": "ipython",
    "version": 3
   },
   "file_extension": ".py",
   "mimetype": "text/x-python",
   "name": "python",
   "nbconvert_exporter": "python",
   "pygments_lexer": "ipython3",
   "version": "3.6.9"
  }
 },
 "nbformat": 4,
 "nbformat_minor": 4
}
